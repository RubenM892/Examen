{
  "nbformat": 4,
  "nbformat_minor": 0,
  "metadata": {
    "colab": {
      "name": "Examen.ipynb",
      "provenance": [],
      "collapsed_sections": []
    },
    "kernelspec": {
      "name": "python3",
      "display_name": "Python 3"
    }
  },
  "cells": [
    {
      "cell_type": "code",
      "metadata": {
        "id": "_nrNsEt49b-J",
        "outputId": "6a855ad5-b1fc-4a02-d6c6-c3c7d165439b",
        "colab": {
          "base_uri": "https://localhost:8080/"
        }
      },
      "source": [
        "\n",
        "def raices(a,b,c): \n",
        " print(\"la Solucion a una raiz cubica ax^2 + bx + c\")\n",
        " x1 = (-b + ((b**2) - (4*a*c))**0.5) /(2*a)\n",
        " x2 = (-b - ((b**2) - (4*a*c))**0.5) / (2*a)\n",
        "\n",
        " print(\"x1 = \",x1)\n",
        " print(\"x2 = \",x2)\n",
        " \n",
        "a = float (input(\"Ingrese el valor de a\"))\n",
        "b = float (input(\"Ingrese el valor de b\"))\n",
        "c = float (input(\"Ingrese el valor de c\"))\n",
        "\n",
        "while ((b**2) - (4*a*c)) < 0:\n",
        "  print(\" Error, el discriminante tiene que ser positivo\")\n",
        "  a = float (input(\"Ingrese el valor de a\"))\n",
        "  b = float (input(\"Ingrese el valor de b\"))\n",
        "  c = float (input(\"Ingrese el valor de c\"))\n",
        "\n",
        "raices(a,b,c)"
      ],
      "execution_count": null,
      "outputs": [
        {
          "output_type": "stream",
          "text": [
            "Ingrese el valor de a3\n",
            "Ingrese el valor de b5\n",
            "Ingrese el valor de c4\n",
            " Error, el discriminante tiene que ser positivo\n",
            "Ingrese el valor de a3\n",
            "Ingrese el valor de b-5\n",
            "Ingrese el valor de c2\n",
            "la Solucion a una raiz cubica ax^2 + bx + c\n",
            "x1 =  1.0\n",
            "x2 =  0.6666666666666666\n"
          ],
          "name": "stdout"
        }
      ]
    },
    {
      "cell_type": "markdown",
      "metadata": {
        "id": "NFRYOpTlGCL0"
      },
      "source": [
        "\n"
      ]
    },
    {
      "cell_type": "code",
      "metadata": {
        "id": "u6jM_753_3Rl"
      },
      "source": [
        "\n",
        "def euler(x,e = 2.7182818282):\n",
        "  print(\"La funcion = e^-x\")\n",
        "  print(\"Cuando e =\",e1)\n",
        "  \n",
        "e1 = 2.7182818282**-x \n",
        " \n",
        "x = int (input(\"Ingrese el valor de x\"))\n",
        "euler(e1)\n",
        "\n",
        "A=[]\n",
        " \n",
        "i=-4\n",
        "p=10\n",
        "while i< p:    \n",
        "  z=i\n",
        "  x=-4\n",
        "  while z==3 and x<7:   \n",
        " \n",
        "    w=euler(x)\n",
        "    print(w)\n",
        "    x=x+1 \n",
        "    A.append(w)\n",
        "  i=i+1  \n",
        " \n",
        "print(A)"
      ],
      "execution_count": null,
      "outputs": []
    }
  ]
}